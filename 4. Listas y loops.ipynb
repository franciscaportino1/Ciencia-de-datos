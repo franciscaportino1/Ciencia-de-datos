{
 "cells": [
  {
   "cell_type": "markdown",
   "id": "56f9ab3f-3de4-4836-95b6-1e59d382943f",
   "metadata": {
    "id": "56f9ab3f-3de4-4836-95b6-1e59d382943f"
   },
   "source": [
    "# Semana 4: Listas y Ciclos iterativos\n",
    "\n",
    "Fecha 05/04/2023\n",
    "\n",
    "## Listas\n",
    "\n",
    "Las listas seran nuestras estructuras de datos mas simples. Sirven para definir un conjunto ordenado de objetos. Son como los strings pero de objetos que no necesariamente son caracteres."
   ]
  },
  {
   "cell_type": "markdown",
   "id": "0fc77a72-e485-4c8c-9ead-10b788246473",
   "metadata": {},
   "source": [
    "Para crear una lista, simplemente encerramos los elementos entre corchetes [], separados por comas. Por ejemplo:"
   ]
  },
  {
   "cell_type": "code",
   "execution_count": 1,
   "id": "6e97aa1e-48b2-41c2-82a5-8a3b14174d83",
   "metadata": {},
   "outputs": [],
   "source": [
    "mi_lista = [1, 2]"
   ]
  },
  {
   "cell_type": "markdown",
   "id": "6ecedf11-1730-42fa-9def-40b205b57903",
   "metadata": {},
   "source": [
    "### Acceso a Elemento de la Lista\n",
    "Cada elemento en una lista tiene asignado un índice, que se utiliza para acceder a dicho elemento."
   ]
  },
  {
   "cell_type": "code",
   "execution_count": 6,
   "id": "560d02e8-e182-4de6-8301-87bce5e124b5",
   "metadata": {},
   "outputs": [
    {
     "data": {
      "text/plain": [
       "2"
      ]
     },
     "execution_count": 6,
     "metadata": {},
     "output_type": "execute_result"
    }
   ],
   "source": [
    "mi_lista[1]"
   ]
  },
  {
   "cell_type": "code",
   "execution_count": 7,
   "id": "4329225a-17c5-4b62-9838-68f97071632b",
   "metadata": {},
   "outputs": [
    {
     "ename": "IndexError",
     "evalue": "list index out of range",
     "output_type": "error",
     "traceback": [
      "\u001b[0;31m---------------------------------------------------------------------------\u001b[0m",
      "\u001b[0;31mIndexError\u001b[0m                                Traceback (most recent call last)",
      "Cell \u001b[0;32mIn[7], line 1\u001b[0m\n\u001b[0;32m----> 1\u001b[0m \u001b[43mmi_lista\u001b[49m\u001b[43m[\u001b[49m\u001b[38;5;241;43m2\u001b[39;49m\u001b[43m]\u001b[49m\n",
      "\u001b[0;31mIndexError\u001b[0m: list index out of range"
     ]
    }
   ],
   "source": [
    "mi_lista[2]"
   ]
  },
  {
   "cell_type": "markdown",
   "id": "a417e12d-4f2b-4b13-863c-92ed69b6ff54",
   "metadata": {},
   "source": [
    "### Añadir Elementos\n",
    "\n",
    "Podemos utilizar métodos como append() para añadir un elemento al final de la lista o insert() para agregar un elemento en una posición específica."
   ]
  },
  {
   "cell_type": "code",
   "execution_count": 8,
   "id": "30186619-b79d-4edd-a451-0356a47de0b2",
   "metadata": {},
   "outputs": [],
   "source": [
    "mi_lista.append(3)"
   ]
  },
  {
   "cell_type": "code",
   "execution_count": 9,
   "id": "2431b349-d07d-4021-887e-2cd736211eea",
   "metadata": {},
   "outputs": [
    {
     "name": "stdout",
     "output_type": "stream",
     "text": [
      "[1, 2, 3]\n"
     ]
    }
   ],
   "source": [
    "print(mi_lista)"
   ]
  },
  {
   "cell_type": "code",
   "execution_count": 10,
   "id": "965ed656-567e-41bc-b6ac-6d8352a9abfd",
   "metadata": {},
   "outputs": [],
   "source": [
    "mi_lista.insert(1, 5)"
   ]
  },
  {
   "cell_type": "code",
   "execution_count": 11,
   "id": "22a056d2-db51-4c7e-a0bd-e28b815dc90b",
   "metadata": {},
   "outputs": [
    {
     "name": "stdout",
     "output_type": "stream",
     "text": [
      "[1, 5, 2, 3]\n"
     ]
    }
   ],
   "source": [
    "print(mi_lista)"
   ]
  },
  {
   "cell_type": "markdown",
   "id": "564aa1f0-bc12-41cb-8403-b120223e9d9f",
   "metadata": {},
   "source": [
    "### Eliminar Elementos\n",
    "\n",
    "Podemos eliminar elementos utilizando remove() o pop()."
   ]
  },
  {
   "cell_type": "code",
   "execution_count": 15,
   "id": "3deb5268-9c49-48c3-86d3-4b5001750e4c",
   "metadata": {},
   "outputs": [
    {
     "name": "stdout",
     "output_type": "stream",
     "text": [
      "[2, 3, 1]\n",
      "[2, 3]\n"
     ]
    }
   ],
   "source": [
    "# con remove eliminaremos la primera aparicion de un elemento\n",
    "print(mi_lista)\n",
    "mi_lista.remove(1)\n",
    "print(mi_lista)"
   ]
  },
  {
   "cell_type": "code",
   "execution_count": 2,
   "id": "00d1c199-fb8f-4479-af53-fe5fed2be98a",
   "metadata": {},
   "outputs": [
    {
     "name": "stdout",
     "output_type": "stream",
     "text": [
      "[2, 3, 1]\n"
     ]
    }
   ],
   "source": [
    "mi_lista = [1, 2, 3, 1]\n",
    "mi_lista.remove(1)\n",
    "print(mi_lista)"
   ]
  },
  {
   "cell_type": "code",
   "execution_count": 3,
   "id": "5dc363fe-c7d4-465e-bd7d-abf8db7230cd",
   "metadata": {},
   "outputs": [
    {
     "name": "stdout",
     "output_type": "stream",
     "text": [
      "1\n",
      "[2, 3]\n"
     ]
    }
   ],
   "source": [
    "# con pop eliminamos segun el indice y obtenemos lo que extrajimos\n",
    "elemento = mi_lista.pop(2)\n",
    "print(elemento)\n",
    "print(mi_lista)"
   ]
  },
  {
   "cell_type": "markdown",
   "id": "d5f0f5be-ff52-494d-a2ff-23e8d88f6819",
   "metadata": {},
   "source": [
    "### Concatenación y Repetición de Listas\n",
    "\n",
    "Combina listas con el operador + o repite una lista con el operador *. Tambien podemos usar extend para modificar o extender una lista inplace"
   ]
  },
  {
   "cell_type": "code",
   "execution_count": 4,
   "id": "1033b7c4-f57b-4b94-a8c2-953f0ab4b318",
   "metadata": {},
   "outputs": [
    {
     "data": {
      "text/plain": [
       "[2, 3, 'a', 'b', 'c']"
      ]
     },
     "execution_count": 4,
     "metadata": {},
     "output_type": "execute_result"
    }
   ],
   "source": [
    "otra_lista = [\"a\", \"b\", \"c\"]\n",
    "mi_lista + otra_lista"
   ]
  },
  {
   "cell_type": "code",
   "execution_count": 5,
   "id": "60cdb169-f48c-49fa-bd39-5a661101969e",
   "metadata": {},
   "outputs": [],
   "source": [
    "mi_lista.extend(otra_lista)"
   ]
  },
  {
   "cell_type": "code",
   "execution_count": 11,
   "id": "f5b62da6-662f-4faa-8356-a63a50db683e",
   "metadata": {},
   "outputs": [
    {
     "data": {
      "text/plain": [
       "[2, 3, 'a', 'b', 'c']"
      ]
     },
     "execution_count": 11,
     "metadata": {},
     "output_type": "execute_result"
    }
   ],
   "source": [
    "mi_lista"
   ]
  },
  {
   "cell_type": "markdown",
   "id": "9f84c3a3-c9a1-4289-9f17-d8cdbe29abf9",
   "metadata": {},
   "source": [
    "## Loops"
   ]
  },
  {
   "cell_type": "markdown",
   "id": "30aff438-78de-4a5e-a39d-0d56e6321625",
   "metadata": {},
   "source": [
    "Existen dos maneras basicas de hacer operaciones iterativas en python: for loops y while loops"
   ]
  },
  {
   "cell_type": "markdown",
   "id": "64718f73-1952-4e76-bdba-d57dfe3bbc6e",
   "metadata": {},
   "source": [
    "### While\n",
    "\n",
    "Los bucles while sirven para repetir una secuencia de acciones mientras se cumpla una condición específica.\n",
    "\n",
    "¿Qué son los bucles while?\n",
    "- Los bucles while ejecutan un bloque de código mientras una condición sea verdadera.\n",
    "- La condición se verifica antes de cada iteración. Si sigue siendo verdadera, el código dentro del   bucle se ejecuta nuevamente.\n",
    "- El bucle continúa hasta que la condición se vuelva falsa.\n",
    "\n",
    "a continuacion puede ver un ejemplo\n"
   ]
  },
  {
   "cell_type": "code",
   "execution_count": 15,
   "id": "5ce83bf8-ae30-43a4-b4ba-cd972a91ce56",
   "metadata": {},
   "outputs": [
    {
     "name": "stdout",
     "output_type": "stream",
     "text": [
      "0\n",
      "1\n",
      "2\n",
      "3\n",
      "4\n"
     ]
    }
   ],
   "source": [
    "numero = 0\n",
    "\n",
    "while numero < 5:\n",
    "    print(numero) # instruccion 1\n",
    "    numero = numero + 1 # instruccion 2"
   ]
  },
  {
   "cell_type": "markdown",
   "id": "ef1efb79-829d-4228-806e-13c69a729b9e",
   "metadata": {},
   "source": [
    "El codigo anterior ejecuta las instrucciones 1 y 2 siempre que el valor almacenado en la variable numero sea menor que 5"
   ]
  },
  {
   "cell_type": "code",
   "execution_count": 16,
   "id": "b57284f3-9292-44d2-97a8-689d142fdb00",
   "metadata": {},
   "outputs": [
    {
     "name": "stdout",
     "output_type": "stream",
     "text": [
      "[1, 2, 3, 4]\n",
      "[1, 2, 3]\n",
      "[1, 2]\n",
      "[1]\n",
      "[]\n"
     ]
    }
   ],
   "source": [
    "super_lista = [1, 2, 3, 4, 5]\n",
    "\n",
    "while len(super_lista) > 0:\n",
    "    super_lista.pop()\n",
    "    print(super_lista)"
   ]
  },
  {
   "cell_type": "markdown",
   "id": "dfc37691-2fb9-4462-975c-b3db180145fb",
   "metadata": {},
   "source": [
    "### For\n",
    "\n",
    "Los bucles sirven para iterar sobre una secuencia de elementos como una lista.\n",
    "\n",
    "- Los bucles for recorren una colección de elementos uno por uno.\n",
    "- No dependen de una condición; simplemente iteran sobre los elementos disponibles."
   ]
  },
  {
   "cell_type": "code",
   "execution_count": 17,
   "id": "f2a50816-1bd5-4f6f-a79d-41602f4b3477",
   "metadata": {},
   "outputs": [
    {
     "name": "stdout",
     "output_type": "stream",
     "text": [
      "1\n",
      "2\n",
      "3\n",
      "4\n",
      "5\n"
     ]
    }
   ],
   "source": [
    "super_lista = [1, 2, 3, 4, 5]\n",
    "\n",
    "for num in super_lista:\n",
    "    print(num)"
   ]
  },
  {
   "cell_type": "code",
   "execution_count": 18,
   "id": "94a46adf-0e32-4edc-a535-61a3249a16bb",
   "metadata": {},
   "outputs": [],
   "source": [
    "# haga eso mismo con un ciclo while"
   ]
  },
  {
   "cell_type": "markdown",
   "id": "089b3256-14a2-49b1-bcd9-0aaf25e8e7b0",
   "metadata": {
    "id": "089b3256-14a2-49b1-bcd9-0aaf25e8e7b0",
    "tags": []
   },
   "source": [
    "## Ejemplos"
   ]
  },
  {
   "cell_type": "markdown",
   "id": "53016037-cdbd-4b8e-9ae1-a656bd6dc214",
   "metadata": {
    "id": "53016037-cdbd-4b8e-9ae1-a656bd6dc214",
    "tags": []
   },
   "source": [
    "### 1. Calcule la suma de una lista de números"
   ]
  },
  {
   "cell_type": "code",
   "execution_count": 28,
   "id": "e130bf00-1580-4ac8-9212-799b0163d05f",
   "metadata": {
    "id": "e130bf00-1580-4ac8-9212-799b0163d05f",
    "outputId": "04798f91-a262-488d-9e88-505194509d5e",
    "tags": []
   },
   "outputs": [],
   "source": [
    "# con un for loop\n",
    "numeros = [13, 4, 56, 2, 43]"
   ]
  },
  {
   "cell_type": "code",
   "execution_count": 29,
   "id": "89e5b323-916f-4ba1-a355-97afde60022c",
   "metadata": {
    "id": "89e5b323-916f-4ba1-a355-97afde60022c",
    "outputId": "609a51eb-78b8-4ebd-8bdf-c573cf66c171",
    "tags": []
   },
   "outputs": [],
   "source": [
    "# con un while\n",
    "numeros = [13, 4, 56, 2, 43]"
   ]
  },
  {
   "cell_type": "markdown",
   "id": "c21916b6-8288-4a9d-9413-704f29734da0",
   "metadata": {
    "id": "c21916b6-8288-4a9d-9413-704f29734da0"
   },
   "source": [
    "### 2. Determinar si un número es primo"
   ]
  },
  {
   "cell_type": "code",
   "execution_count": 27,
   "id": "d24e05a3-e83a-4825-8ab3-75f7a494082c",
   "metadata": {
    "id": "d24e05a3-e83a-4825-8ab3-75f7a494082c",
    "outputId": "d818d8fe-7ca4-4461-8cb1-f0e9f331c5c0",
    "tags": []
   },
   "outputs": [
    {
     "name": "stdin",
     "output_type": "stream",
     "text": [
      "Ingrese un número: 1\n"
     ]
    }
   ],
   "source": [
    "num = int(input(\"Ingrese un número:\"))"
   ]
  },
  {
   "cell_type": "markdown",
   "id": "e3427114-0cc9-46ae-9692-585692ee8446",
   "metadata": {
    "id": "e3427114-0cc9-46ae-9692-585692ee8446"
   },
   "source": [
    "### 3. Encontrar el máximo en una lista\n"
   ]
  },
  {
   "cell_type": "code",
   "execution_count": 26,
   "id": "90cd6cf3-d04d-4d37-8767-8352b5e18751",
   "metadata": {
    "id": "90cd6cf3-d04d-4d37-8767-8352b5e18751",
    "outputId": "7a5ee9b2-1c2b-4997-d64c-31305dd0804d",
    "tags": []
   },
   "outputs": [],
   "source": [
    "numeros = [13, 4, 56, 2, 43, 13]"
   ]
  },
  {
   "cell_type": "markdown",
   "id": "59e88b13-2268-4a98-b068-be763eddaaed",
   "metadata": {
    "id": "59e88b13-2268-4a98-b068-be763eddaaed"
   },
   "source": [
    "### 4. Determine si una palabra es un palíndromo"
   ]
  },
  {
   "cell_type": "code",
   "execution_count": 24,
   "id": "1b99354f-e6d1-4797-aee7-fe3aefb3d652",
   "metadata": {
    "id": "1b99354f-e6d1-4797-aee7-fe3aefb3d652",
    "outputId": "6f8f2a6e-d657-4348-be4e-55b79fa6fb4e",
    "tags": []
   },
   "outputs": [],
   "source": [
    "palabra = \"olo\"\n",
    "\n",
    "# Qué es un palíndromo?\n",
    "# Es una palabra que se lee igual de derecha a izquierda\n",
    "# Solución:"
   ]
  }
 ],
 "metadata": {
  "colab": {
   "provenance": []
  },
  "kernelspec": {
   "display_name": "Python 3 (ipykernel)",
   "language": "python",
   "name": "python3"
  },
  "language_info": {
   "codemirror_mode": {
    "name": "ipython",
    "version": 3
   },
   "file_extension": ".py",
   "mimetype": "text/x-python",
   "name": "python",
   "nbconvert_exporter": "python",
   "pygments_lexer": "ipython3",
   "version": "3.10.13"
  }
 },
 "nbformat": 4,
 "nbformat_minor": 5
}
